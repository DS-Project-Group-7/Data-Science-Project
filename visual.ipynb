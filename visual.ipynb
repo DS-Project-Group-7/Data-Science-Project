{
 "cells": [
  {
   "cell_type": "code",
   "execution_count": 1,
   "id": "75d12322",
   "metadata": {},
   "outputs": [
    {
     "data": {
      "text/html": [
       "<div>\n",
       "<style scoped>\n",
       "    .dataframe tbody tr th:only-of-type {\n",
       "        vertical-align: middle;\n",
       "    }\n",
       "\n",
       "    .dataframe tbody tr th {\n",
       "        vertical-align: top;\n",
       "    }\n",
       "\n",
       "    .dataframe thead th {\n",
       "        text-align: right;\n",
       "    }\n",
       "</style>\n",
       "<table border=\"1\" class=\"dataframe\">\n",
       "  <thead>\n",
       "    <tr style=\"text-align: right;\">\n",
       "      <th></th>\n",
       "      <th>Unnamed: 0</th>\n",
       "      <th>Accession number</th>\n",
       "      <th>Title</th>\n",
       "      <th>Country</th>\n",
       "      <th>Collection</th>\n",
       "      <th>Support Type</th>\n",
       "      <th>To reverse/face edge</th>\n",
       "      <th>media type 1</th>\n",
       "      <th>media type 2</th>\n",
       "      <th>media type 3</th>\n",
       "      <th>...</th>\n",
       "      <th>mould (painting support)</th>\n",
       "      <th>staining (painting support)</th>\n",
       "      <th>overall distortions (painting support)</th>\n",
       "      <th>insect damage (painting support)</th>\n",
       "      <th>bottom distortions (painting support)</th>\n",
       "      <th>rust stains on support (painting support)</th>\n",
       "      <th>top distortions (painting support)</th>\n",
       "      <th>deformation around tacks staples (painting support)</th>\n",
       "      <th>tears around tacks staples (painting support)</th>\n",
       "      <th>loss of tacks insecure support (painting support)</th>\n",
       "    </tr>\n",
       "  </thead>\n",
       "  <tbody>\n",
       "    <tr>\n",
       "      <th>0</th>\n",
       "      <td>0</td>\n",
       "      <td>UPVMA-III.00240</td>\n",
       "      <td>ifugao warrior</td>\n",
       "      <td>philippines</td>\n",
       "      <td>vargas museum, university of the philippines</td>\n",
       "      <td>strainer original</td>\n",
       "      <td>NaN</td>\n",
       "      <td>oil_x001D__x001D_</td>\n",
       "      <td>NaN</td>\n",
       "      <td>NaN</td>\n",
       "      <td>...</td>\n",
       "      <td>1</td>\n",
       "      <td>1</td>\n",
       "      <td>0</td>\n",
       "      <td>0</td>\n",
       "      <td>0</td>\n",
       "      <td>1</td>\n",
       "      <td>0</td>\n",
       "      <td>1</td>\n",
       "      <td>0</td>\n",
       "      <td>0</td>\n",
       "    </tr>\n",
       "    <tr>\n",
       "      <th>1</th>\n",
       "      <td>1</td>\n",
       "      <td>UPVMA-III.00085</td>\n",
       "      <td>Guadalupe Ruins</td>\n",
       "      <td>philippines</td>\n",
       "      <td>vargas museum, university of the philippines</td>\n",
       "      <td>strainer original</td>\n",
       "      <td>to face edge</td>\n",
       "      <td>oil_x001D__x001D_</td>\n",
       "      <td>NaN</td>\n",
       "      <td>NaN</td>\n",
       "      <td>...</td>\n",
       "      <td>0</td>\n",
       "      <td>1</td>\n",
       "      <td>1</td>\n",
       "      <td>0</td>\n",
       "      <td>0</td>\n",
       "      <td>1</td>\n",
       "      <td>0</td>\n",
       "      <td>1</td>\n",
       "      <td>0</td>\n",
       "      <td>0</td>\n",
       "    </tr>\n",
       "    <tr>\n",
       "      <th>2</th>\n",
       "      <td>2</td>\n",
       "      <td>UPVMA-III.00292\\n</td>\n",
       "      <td>3:00 O'Clock Seascape</td>\n",
       "      <td>philippines</td>\n",
       "      <td>vargas museum, university of the philippines</td>\n",
       "      <td>strainer original</td>\n",
       "      <td>NaN</td>\n",
       "      <td>oil_x001D__x001D_</td>\n",
       "      <td>NaN</td>\n",
       "      <td>NaN</td>\n",
       "      <td>...</td>\n",
       "      <td>1</td>\n",
       "      <td>1</td>\n",
       "      <td>0</td>\n",
       "      <td>0</td>\n",
       "      <td>0</td>\n",
       "      <td>1</td>\n",
       "      <td>0</td>\n",
       "      <td>0</td>\n",
       "      <td>0</td>\n",
       "      <td>0</td>\n",
       "    </tr>\n",
       "    <tr>\n",
       "      <th>3</th>\n",
       "      <td>3</td>\n",
       "      <td>UPVMA-III.00126\\n</td>\n",
       "      <td>Kabulusan Beach, Laguna de Bay</td>\n",
       "      <td>philippines</td>\n",
       "      <td>vargas museum, university of the philippines</td>\n",
       "      <td>strainer original</td>\n",
       "      <td>to face edge</td>\n",
       "      <td>oil_x001D__x001D_</td>\n",
       "      <td>NaN</td>\n",
       "      <td>NaN</td>\n",
       "      <td>...</td>\n",
       "      <td>0</td>\n",
       "      <td>0</td>\n",
       "      <td>1</td>\n",
       "      <td>0</td>\n",
       "      <td>0</td>\n",
       "      <td>1</td>\n",
       "      <td>0</td>\n",
       "      <td>0</td>\n",
       "      <td>1</td>\n",
       "      <td>1</td>\n",
       "    </tr>\n",
       "    <tr>\n",
       "      <th>4</th>\n",
       "      <td>4</td>\n",
       "      <td>UPVMA-III.00161\\n</td>\n",
       "      <td>BSP President Jorge B. Vargas</td>\n",
       "      <td>philippines</td>\n",
       "      <td>vargas museum, university of the philippines</td>\n",
       "      <td>strainer original</td>\n",
       "      <td>NaN</td>\n",
       "      <td>oil_x001D__x001D_</td>\n",
       "      <td>NaN</td>\n",
       "      <td>NaN</td>\n",
       "      <td>...</td>\n",
       "      <td>0</td>\n",
       "      <td>0</td>\n",
       "      <td>0</td>\n",
       "      <td>0</td>\n",
       "      <td>0</td>\n",
       "      <td>0</td>\n",
       "      <td>0</td>\n",
       "      <td>0</td>\n",
       "      <td>0</td>\n",
       "      <td>0</td>\n",
       "    </tr>\n",
       "    <tr>\n",
       "      <th>...</th>\n",
       "      <td>...</td>\n",
       "      <td>...</td>\n",
       "      <td>...</td>\n",
       "      <td>...</td>\n",
       "      <td>...</td>\n",
       "      <td>...</td>\n",
       "      <td>...</td>\n",
       "      <td>...</td>\n",
       "      <td>...</td>\n",
       "      <td>...</td>\n",
       "      <td>...</td>\n",
       "      <td>...</td>\n",
       "      <td>...</td>\n",
       "      <td>...</td>\n",
       "      <td>...</td>\n",
       "      <td>...</td>\n",
       "      <td>...</td>\n",
       "      <td>...</td>\n",
       "      <td>...</td>\n",
       "      <td>...</td>\n",
       "      <td>...</td>\n",
       "    </tr>\n",
       "    <tr>\n",
       "      <th>203</th>\n",
       "      <td>203</td>\n",
       "      <td>ppc:020.200</td>\n",
       "      <td>unknown (portrait of a chinese man in blue)</td>\n",
       "      <td>singapore</td>\n",
       "      <td>singapore art museum, national heritage board ...</td>\n",
       "      <td>stretcher original</td>\n",
       "      <td>to side edge</td>\n",
       "      <td>oil</td>\n",
       "      <td>pencil underdrawing</td>\n",
       "      <td>NaN</td>\n",
       "      <td>...</td>\n",
       "      <td>0</td>\n",
       "      <td>1</td>\n",
       "      <td>1</td>\n",
       "      <td>0</td>\n",
       "      <td>0</td>\n",
       "      <td>1</td>\n",
       "      <td>0</td>\n",
       "      <td>0</td>\n",
       "      <td>0</td>\n",
       "      <td>0</td>\n",
       "    </tr>\n",
       "    <tr>\n",
       "      <th>204</th>\n",
       "      <td>204</td>\n",
       "      <td>P06086</td>\n",
       "      <td>singapore harbour</td>\n",
       "      <td>singapore</td>\n",
       "      <td>singapore history museum, national heritage board</td>\n",
       "      <td>strainer original</td>\n",
       "      <td>NaN</td>\n",
       "      <td>oil_x001D__x001D_</td>\n",
       "      <td>NaN</td>\n",
       "      <td>NaN</td>\n",
       "      <td>...</td>\n",
       "      <td>0</td>\n",
       "      <td>0</td>\n",
       "      <td>0</td>\n",
       "      <td>0</td>\n",
       "      <td>0</td>\n",
       "      <td>0</td>\n",
       "      <td>0</td>\n",
       "      <td>0</td>\n",
       "      <td>0</td>\n",
       "      <td>0</td>\n",
       "    </tr>\n",
       "    <tr>\n",
       "      <th>205</th>\n",
       "      <td>205</td>\n",
       "      <td>2002.0219</td>\n",
       "      <td>rizal</td>\n",
       "      <td>philippines</td>\n",
       "      <td>singapore art museum, national heritage board</td>\n",
       "      <td>stretcher original</td>\n",
       "      <td>NaN</td>\n",
       "      <td>oil_x001D__x001D_</td>\n",
       "      <td>NaN</td>\n",
       "      <td>NaN</td>\n",
       "      <td>...</td>\n",
       "      <td>0</td>\n",
       "      <td>0</td>\n",
       "      <td>0</td>\n",
       "      <td>0</td>\n",
       "      <td>0</td>\n",
       "      <td>0</td>\n",
       "      <td>0</td>\n",
       "      <td>0</td>\n",
       "      <td>0</td>\n",
       "      <td>0</td>\n",
       "    </tr>\n",
       "    <tr>\n",
       "      <th>206</th>\n",
       "      <td>206</td>\n",
       "      <td>1999.1627</td>\n",
       "      <td>king rama iii</td>\n",
       "      <td>thailand</td>\n",
       "      <td>singapore art museum, national heritage board</td>\n",
       "      <td>stretcher new</td>\n",
       "      <td>NaN</td>\n",
       "      <td>oil_x001D__x001D_</td>\n",
       "      <td>NaN</td>\n",
       "      <td>NaN</td>\n",
       "      <td>...</td>\n",
       "      <td>0</td>\n",
       "      <td>0</td>\n",
       "      <td>0</td>\n",
       "      <td>0</td>\n",
       "      <td>0</td>\n",
       "      <td>0</td>\n",
       "      <td>0</td>\n",
       "      <td>0</td>\n",
       "      <td>1</td>\n",
       "      <td>0</td>\n",
       "    </tr>\n",
       "    <tr>\n",
       "      <th>207</th>\n",
       "      <td>207</td>\n",
       "      <td>2002.217</td>\n",
       "      <td>Fish Pond in Malabon</td>\n",
       "      <td>philippines</td>\n",
       "      <td>singapore art museum, national heritage board</td>\n",
       "      <td>stretcher original</td>\n",
       "      <td>to face edge</td>\n",
       "      <td>oil</td>\n",
       "      <td>pencil underdrawing</td>\n",
       "      <td>NaN</td>\n",
       "      <td>...</td>\n",
       "      <td>0</td>\n",
       "      <td>0</td>\n",
       "      <td>0</td>\n",
       "      <td>0</td>\n",
       "      <td>0</td>\n",
       "      <td>1</td>\n",
       "      <td>0</td>\n",
       "      <td>0</td>\n",
       "      <td>0</td>\n",
       "      <td>0</td>\n",
       "    </tr>\n",
       "  </tbody>\n",
       "</table>\n",
       "<p>208 rows × 75 columns</p>\n",
       "</div>"
      ],
      "text/plain": [
       "     Unnamed: 0   Accession number  \\\n",
       "0             0    UPVMA-III.00240   \n",
       "1             1    UPVMA-III.00085   \n",
       "2             2  UPVMA-III.00292\\n   \n",
       "3             3  UPVMA-III.00126\\n   \n",
       "4             4  UPVMA-III.00161\\n   \n",
       "..          ...                ...   \n",
       "203         203        ppc:020.200   \n",
       "204         204             P06086   \n",
       "205         205          2002.0219   \n",
       "206         206          1999.1627   \n",
       "207         207           2002.217   \n",
       "\n",
       "                                           Title      Country  \\\n",
       "0                                 ifugao warrior  philippines   \n",
       "1                                Guadalupe Ruins  philippines   \n",
       "2                          3:00 O'Clock Seascape  philippines   \n",
       "3                 Kabulusan Beach, Laguna de Bay  philippines   \n",
       "4                  BSP President Jorge B. Vargas  philippines   \n",
       "..                                           ...          ...   \n",
       "203  unknown (portrait of a chinese man in blue)    singapore   \n",
       "204                            singapore harbour    singapore   \n",
       "205                                        rizal  philippines   \n",
       "206                                king rama iii     thailand   \n",
       "207                         Fish Pond in Malabon  philippines   \n",
       "\n",
       "                                            Collection        Support Type  \\\n",
       "0         vargas museum, university of the philippines   strainer original   \n",
       "1         vargas museum, university of the philippines   strainer original   \n",
       "2         vargas museum, university of the philippines   strainer original   \n",
       "3         vargas museum, university of the philippines   strainer original   \n",
       "4         vargas museum, university of the philippines   strainer original   \n",
       "..                                                 ...                 ...   \n",
       "203  singapore art museum, national heritage board ...  stretcher original   \n",
       "204  singapore history museum, national heritage board   strainer original   \n",
       "205      singapore art museum, national heritage board  stretcher original   \n",
       "206      singapore art museum, national heritage board       stretcher new   \n",
       "207      singapore art museum, national heritage board  stretcher original   \n",
       "\n",
       "    To reverse/face edge       media type 1         media type 2 media type 3  \\\n",
       "0                    NaN  oil_x001D__x001D_                  NaN          NaN   \n",
       "1           to face edge  oil_x001D__x001D_                  NaN          NaN   \n",
       "2                    NaN  oil_x001D__x001D_                  NaN          NaN   \n",
       "3           to face edge  oil_x001D__x001D_                  NaN          NaN   \n",
       "4                    NaN  oil_x001D__x001D_                  NaN          NaN   \n",
       "..                   ...                ...                  ...          ...   \n",
       "203         to side edge                oil  pencil underdrawing          NaN   \n",
       "204                  NaN  oil_x001D__x001D_                  NaN          NaN   \n",
       "205                  NaN  oil_x001D__x001D_                  NaN          NaN   \n",
       "206                  NaN  oil_x001D__x001D_                  NaN          NaN   \n",
       "207         to face edge                oil  pencil underdrawing          NaN   \n",
       "\n",
       "     ... mould (painting support) staining (painting support)  \\\n",
       "0    ...                        1                           1   \n",
       "1    ...                        0                           1   \n",
       "2    ...                        1                           1   \n",
       "3    ...                        0                           0   \n",
       "4    ...                        0                           0   \n",
       "..   ...                      ...                         ...   \n",
       "203  ...                        0                           1   \n",
       "204  ...                        0                           0   \n",
       "205  ...                        0                           0   \n",
       "206  ...                        0                           0   \n",
       "207  ...                        0                           0   \n",
       "\n",
       "    overall distortions (painting support) insect damage (painting support)  \\\n",
       "0                                        0                                0   \n",
       "1                                        1                                0   \n",
       "2                                        0                                0   \n",
       "3                                        1                                0   \n",
       "4                                        0                                0   \n",
       "..                                     ...                              ...   \n",
       "203                                      1                                0   \n",
       "204                                      0                                0   \n",
       "205                                      0                                0   \n",
       "206                                      0                                0   \n",
       "207                                      0                                0   \n",
       "\n",
       "     bottom distortions (painting support)  \\\n",
       "0                                        0   \n",
       "1                                        0   \n",
       "2                                        0   \n",
       "3                                        0   \n",
       "4                                        0   \n",
       "..                                     ...   \n",
       "203                                      0   \n",
       "204                                      0   \n",
       "205                                      0   \n",
       "206                                      0   \n",
       "207                                      0   \n",
       "\n",
       "     rust stains on support (painting support)  \\\n",
       "0                                            1   \n",
       "1                                            1   \n",
       "2                                            1   \n",
       "3                                            1   \n",
       "4                                            0   \n",
       "..                                         ...   \n",
       "203                                          1   \n",
       "204                                          0   \n",
       "205                                          0   \n",
       "206                                          0   \n",
       "207                                          1   \n",
       "\n",
       "     top distortions (painting support)  \\\n",
       "0                                     0   \n",
       "1                                     0   \n",
       "2                                     0   \n",
       "3                                     0   \n",
       "4                                     0   \n",
       "..                                  ...   \n",
       "203                                   0   \n",
       "204                                   0   \n",
       "205                                   0   \n",
       "206                                   0   \n",
       "207                                   0   \n",
       "\n",
       "     deformation around tacks staples (painting support)  \\\n",
       "0                                                    1     \n",
       "1                                                    1     \n",
       "2                                                    0     \n",
       "3                                                    0     \n",
       "4                                                    0     \n",
       "..                                                 ...     \n",
       "203                                                  0     \n",
       "204                                                  0     \n",
       "205                                                  0     \n",
       "206                                                  0     \n",
       "207                                                  0     \n",
       "\n",
       "     tears around tacks staples (painting support)  \\\n",
       "0                                                0   \n",
       "1                                                0   \n",
       "2                                                0   \n",
       "3                                                1   \n",
       "4                                                0   \n",
       "..                                             ...   \n",
       "203                                              0   \n",
       "204                                              0   \n",
       "205                                              0   \n",
       "206                                              1   \n",
       "207                                              0   \n",
       "\n",
       "     loss of tacks insecure support (painting support)  \n",
       "0                                                    0  \n",
       "1                                                    0  \n",
       "2                                                    0  \n",
       "3                                                    1  \n",
       "4                                                    0  \n",
       "..                                                 ...  \n",
       "203                                                  0  \n",
       "204                                                  0  \n",
       "205                                                  0  \n",
       "206                                                  0  \n",
       "207                                                  0  \n",
       "\n",
       "[208 rows x 75 columns]"
      ]
     },
     "execution_count": 1,
     "metadata": {},
     "output_type": "execute_result"
    }
   ],
   "source": [
    "import math\n",
    "import matplotlib.pyplot as plt\n",
    "from numpy import append, var \n",
    "import pandas as pd \n",
    "import math\n",
    "import seaborn as sns\n",
    "from sqlalchemy import false\n",
    "df = pd.read_csv(r\"C:\\Users\\CHA\\Desktop\\haha\\cleandata.csv\")\n",
    "df"
   ]
  },
  {
   "cell_type": "code",
   "execution_count": 4,
   "id": "72a2e028",
   "metadata": {},
   "outputs": [
    {
     "data": {
      "text/plain": [
       "strainer original     52\n",
       "stretcher original    40\n",
       "strainer new          18\n",
       "stretcher new          4\n",
       "Name: Support Type, dtype: int64"
      ]
     },
     "execution_count": 4,
     "metadata": {},
     "output_type": "execute_result"
    }
   ],
   "source": [
    "df[\"Support Type\"].value_counts()"
   ]
  },
  {
   "cell_type": "code",
   "execution_count": 6,
   "id": "e14c40f3",
   "metadata": {},
   "outputs": [
    {
     "data": {
      "image/png": "[encoded data removed]",
      "text/plain": [
       "<Figure size 432x432 with 1 Axes>"
      ]
     },
     "metadata": {},
     "output_type": "display_data"
    }
   ],
   "source": [
    "import matplotlib.pyplot as plt\n",
    "plt.figure(figsize=(6,6))\n",
    "label = [\"strainer original\",\"stretcher original\",\"strainer new\",\"stretcher new\"]\n",
    "num = [52,4,18,4]\n",
    "explode=[0.1,0.1,0.1,0.1]\n",
    "plt.pie(num,explode=explode,labels=label,autopct='%1.1f%%') \n",
    "plt.title('Support type pie chart')\n",
    "plt.show()"
   ]
  },
  {
   "cell_type": "code",
   "execution_count": 8,
   "id": "1c5971c5",
   "metadata": {},
   "outputs": [
    {
     "data": {
      "text/plain": [
       "Text(0.5, 1.0, 'histogram plot for Support Type ')"
      ]
     },
     "execution_count": 8,
     "metadata": {},
     "output_type": "execute_result"
    },
    {
     "data": {
      "image/png": "[encoded data removed]",
      "text/plain": [
       "<Figure size 432x288 with 1 Axes>"
      ]
     },
     "metadata": {
      "needs_background": "light"
     },
     "output_type": "display_data"
    }
   ],
   "source": [
    "plt.bar(range(4),num,width=0.5)\n",
    "plt.xlabel('Support type ')\n",
    "plt.xticks(range(4),label)\n",
    "plt.ylabel(\"number\")\n",
    "plt.title('histogram plot for Support Type ')"
   ]
  },
  {
   "cell_type": "code",
   "execution_count": 10,
   "id": "5b985f7c",
   "metadata": {},
   "outputs": [
    {
     "data": {
      "text/plain": [
       "philippines    62\n",
       "singapore      57\n",
       "malaysia       55\n",
       "thailand       34\n",
       "Name: Country, dtype: int64"
      ]
     },
     "execution_count": 10,
     "metadata": {},
     "output_type": "execute_result"
    }
   ],
   "source": [
    "df[\"Country\"].value_counts()"
   ]
  },
  {
   "cell_type": "code",
   "execution_count": 11,
   "id": "7eb43160",
   "metadata": {},
   "outputs": [
    {
     "data": {
      "image/png": "[encoded data removed]",
      "text/plain": [
       "<Figure size 432x432 with 1 Axes>"
      ]
     },
     "metadata": {},
     "output_type": "display_data"
    }
   ],
   "source": [
    "import matplotlib.pyplot as plt\n",
    "plt.figure(figsize=(6,6))\n",
    "label = [\"philippines\",\"singapore\",\"malaysia\",\"thailand\"]\n",
    "num = [62,57,55,34]\n",
    "explode=[0.1,0.1,0.1,0.1]\n",
    "plt.pie(num,explode=explode,labels=label,autopct='%1.1f%%') \n",
    "plt.title('Support type pie chart')\n",
    "plt.show()"
   ]
  },
  {
   "cell_type": "code",
   "execution_count": 12,
   "id": "5c0ba767",
   "metadata": {},
   "outputs": [
    {
     "data": {
      "text/plain": [
       "Text(0.5, 1.0, 'histogram plot for countires ')"
      ]
     },
     "execution_count": 12,
     "metadata": {},
     "output_type": "execute_result"
    },
    {
     "data": {
      "image/png": "[encoded data removed]",
      "text/plain": [
       "<Figure size 432x288 with 1 Axes>"
      ]
     },
     "metadata": {
      "needs_background": "light"
     },
     "output_type": "display_data"
    }
   ],
   "source": [
    "plt.bar(range(4),num,width=0.5)\n",
    "plt.xlabel('Support type ')\n",
    "plt.xticks(range(4),label)\n",
    "plt.ylabel(\"number\")\n",
    "plt.title('histogram plot for countires ')"
   ]
  },
  {
   "cell_type": "code",
   "execution_count": 13,
   "id": "7e5c60b2",
   "metadata": {},
   "outputs": [],
   "source": [
    "country = [\"philippines\",\"singapore\",\"malaysia\",\"thailand\"]\n",
    "support = [\"strainer original\",\"stretcher original\",\"strainer new\",\"stretcher new\"]"
   ]
  },
  {
   "cell_type": "code",
   "execution_count": 28,
   "id": "c0acaba7",
   "metadata": {},
   "outputs": [
    {
     "name": "stdout",
     "output_type": "stream",
     "text": [
      "philippines\n",
      "strainer original\n",
      "19\n",
      "philippines\n",
      "stretcher original\n",
      "15\n",
      "philippines\n",
      "strainer new\n",
      "1\n",
      "philippines\n",
      "stretcher new\n",
      "1\n",
      "singapore\n",
      "strainer original\n",
      "10\n",
      "singapore\n",
      "stretcher original\n",
      "3\n",
      "singapore\n",
      "strainer new\n",
      "11\n",
      "singapore\n",
      "stretcher new\n",
      "2\n",
      "malaysia\n",
      "strainer original\n",
      "13\n",
      "malaysia\n",
      "stretcher original\n",
      "12\n",
      "malaysia\n",
      "strainer new\n",
      "4\n",
      "malaysia\n",
      "stretcher new\n",
      "0\n",
      "thailand\n",
      "strainer original\n",
      "10\n",
      "thailand\n",
      "stretcher original\n",
      "10\n",
      "thailand\n",
      "strainer new\n",
      "2\n",
      "thailand\n",
      "stretcher new\n",
      "1\n"
     ]
    }
   ],
   "source": [
    "lst = []\n",
    "n=0\n",
    "for j in country:\n",
    "    for z in support:\n",
    "    #for j in country:\n",
    "        for i in range(len(df)):\n",
    "            if(df[\"Country\"][i]==j)and(df[\"Support Type\"][i]==z):\n",
    "                n=n+1\n",
    "        print(j)\n",
    "        print(z)\n",
    "        print(n)\n",
    "        lst.append(n)\n",
    "        n=0\n",
    "       "
   ]
  },
  {
   "cell_type": "code",
   "execution_count": 29,
   "id": "c14fdaa6",
   "metadata": {},
   "outputs": [
    {
     "data": {
      "text/plain": [
       "[19, 15, 1, 1, 10, 3, 11, 2, 13, 12, 4, 0, 10, 10, 2, 1]"
      ]
     },
     "execution_count": 29,
     "metadata": {},
     "output_type": "execute_result"
    }
   ],
   "source": [
    "lst"
   ]
  },
  {
   "cell_type": "code",
   "execution_count": 33,
   "id": "92181754",
   "metadata": {},
   "outputs": [
    {
     "data": {
      "image/png": "[encoded data removed]",
      "text/plain": [
       "<Figure size 432x288 with 1 Axes>"
      ]
     },
     "metadata": {
      "needs_background": "light"
     },
     "output_type": "display_data"
    }
   ],
   "source": [
    "import numpy as np\n",
    "data = [[19, 15, 1, 1],\n",
    "        [10, 3, 11, 2],\n",
    "        [13, 12, 4, 0],\n",
    "        [10, 10, 2, 1]\n",
    "       ]\n",
    "rows = country\n",
    "columns = support\n",
    "fig, ax = plt.subplots()\n",
    "ax.pcolor(data, cmap=plt.cm.Reds, edgecolor='k')\n",
    "ax.set_xticks(np.arange(0, 4)+0.5)\n",
    "ax.set_yticks(np.arange(0, 4)+0.5)\n",
    "ax.xaxis.tick_bottom()\n",
    "ax.yaxis.tick_left()\n",
    "ax.set_xticklabels(columns, minor=False, fontsize=8)\n",
    "ax.set_yticklabels(rows, minor=False, fontsize=8)\n",
    "plt.title(\"heatmap between countires and support types\")\n",
    "plt.show()"
   ]
  },
  {
   "cell_type": "code",
   "execution_count": 40,
   "id": "b6e4069a",
   "metadata": {},
   "outputs": [
    {
     "data": {
      "image/png": "[encoded data removed]",
      "text/plain": [
       "<Figure size 432x288 with 1 Axes>"
      ]
     },
     "metadata": {
      "needs_background": "light"
     },
     "output_type": "display_data"
    }
   ],
   "source": [
    "import matplotlib.pyplot as plt\n",
    "data = [[19, 15, 1, 1],\n",
    "        [10, 3, 11, 2],\n",
    "        [13, 12, 4, 0],\n",
    "        [10, 10, 2, 1]\n",
    "       ]\n",
    "\n",
    "\n",
    "x = range(len(support))\n",
    "width = 0.35\n",
    "bottom_y = [0] * len(support)\n",
    "for y in data:\n",
    "    plt.bar(x, y, width, bottom=bottom_y)\n",
    "    plt.legend(country)\n",
    "    bottom_y = [a+b for a, b in zip(y, bottom_y)]\n",
    "plt.xticks(x, support)\n",
    "plt.title('Stacked bar support type gourp by countries')\n",
    "plt.show()\n"
   ]
  },
  {
   "cell_type": "code",
   "execution_count": 43,
   "id": "f7b88db3",
   "metadata": {},
   "outputs": [
    {
     "data": {
      "text/plain": [
       "0    196\n",
       "1     12\n",
       "Name: insect damage (auxiliary support), dtype: int64"
      ]
     },
     "execution_count": 43,
     "metadata": {},
     "output_type": "execute_result"
    }
   ],
   "source": [
    "df['insect damage (auxiliary support)'].value_counts()"
   ]
  },
  {
   "cell_type": "code",
   "execution_count": 44,
   "id": "dec3db38",
   "metadata": {},
   "outputs": [
    {
     "data": {
      "text/plain": [
       "2.0    92\n",
       "0.0    87\n",
       "1.0    29\n",
       "Name: Auxiliary support Condition, dtype: int64"
      ]
     },
     "execution_count": 44,
     "metadata": {},
     "output_type": "execute_result"
    }
   ],
   "source": [
    "df['Auxiliary support Condition'].value_counts()"
   ]
  },
  {
   "cell_type": "code",
   "execution_count": 45,
   "id": "9a615e41",
   "metadata": {},
   "outputs": [],
   "source": [
    "damage = [\"insect damage\",\"no insect damage\"]\n",
    "condition = [\"poor\",\"fair\",\"good\"]\n",
    "da = [196,12]\n",
    "con = [87,29,92]\n"
   ]
  },
  {
   "cell_type": "code",
   "execution_count": 48,
   "id": "351b77b1",
   "metadata": {},
   "outputs": [
    {
     "data": {
      "text/plain": [
       "pine                                                                                                                                                                   31\n",
       "local? Philippines                                                                                                                                                      5\n",
       "local? Malay                                                                                                                                                            5\n",
       "taguile                                                                                                                                                                 4\n",
       "jelutong                                                                                                                                                                3\n",
       "meranti                                                                                                                                                                 2\n",
       "ipil: younger variety straight grain, about 30 yrs old. older then chickcen wing shape. chichinu (chinese name:popular for furiniture)                                  1\n",
       "yellow taguile  and pine wood on top member (lauan) (now popoular available wood. but not so popoular then as narra, ipil more popular). philippines mohagany in US     1\n",
       "pine?                                                                                                                                                                   1\n",
       "ramin? local? Malay                                                                                                                                                     1\n",
       "ipil                                                                                                                                                                    1\n",
       "Name: Wood type, dtype: int64"
      ]
     },
     "execution_count": 48,
     "metadata": {},
     "output_type": "execute_result"
    }
   ],
   "source": [
    "df[\"Wood type\"].value_counts()"
   ]
  },
  {
   "cell_type": "code",
   "execution_count": null,
   "id": "e7410955",
   "metadata": {},
   "outputs": [],
   "source": []
  }
 ],
 "metadata": {
  "kernelspec": {
   "display_name": "Python 3 (ipykernel)",
   "language": "python",
   "name": "python3"
  },
  "language_info": {
   "codemirror_mode": {
    "name": "ipython",
    "version": 3
   },
   "file_extension": ".py",
   "mimetype": "text/x-python",
   "name": "python",
   "nbconvert_exporter": "python",
   "pygments_lexer": "ipython3",
   "version": "3.9.7"
  }
 },
 "nbformat": 4,
 "nbformat_minor": 5
}
