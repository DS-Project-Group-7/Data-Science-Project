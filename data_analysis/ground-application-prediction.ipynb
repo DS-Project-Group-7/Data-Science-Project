{
 "cells": [
  {
   "cell_type": "code",
   "execution_count": 1,
   "metadata": {},
   "outputs": [],
   "source": [
    "import pandas as pd\n",
    "import numpy as np\n",
    "import matplotlib.pyplot as plt\n",
    "from collections import Counter\n",
    "\n",
    "plt.style.use('ggplot')\n",
    "pd.set_option('display.float_format',lambda x : '%.2f' % x)\n",
    "\n",
    "dataset = pd.read_csv(\"../data/cleanData.csv\")"
   ]
  },
  {
   "cell_type": "code",
   "execution_count": 2,
   "metadata": {},
   "outputs": [
    {
     "data": {
      "text/html": [
       "<div>\n",
       "<style scoped>\n",
       "    .dataframe tbody tr th:only-of-type {\n",
       "        vertical-align: middle;\n",
       "    }\n",
       "\n",
       "    .dataframe tbody tr th {\n",
       "        vertical-align: top;\n",
       "    }\n",
       "\n",
       "    .dataframe thead th {\n",
       "        text-align: right;\n",
       "    }\n",
       "</style>\n",
       "<table border=\"1\" class=\"dataframe\">\n",
       "  <thead>\n",
       "    <tr style=\"text-align: right;\">\n",
       "      <th></th>\n",
       "      <th>Unnamed: 0</th>\n",
       "      <th>accession_number</th>\n",
       "      <th>artist</th>\n",
       "      <th>title</th>\n",
       "      <th>date</th>\n",
       "      <th>decade</th>\n",
       "      <th>country</th>\n",
       "      <th>collection</th>\n",
       "      <th>sight</th>\n",
       "      <th>length</th>\n",
       "      <th>...</th>\n",
       "      <th>abrasions_frame</th>\n",
       "      <th>flaking_frame</th>\n",
       "      <th>losses_frame</th>\n",
       "      <th>dented_frame</th>\n",
       "      <th>chipped_frame</th>\n",
       "      <th>cracking_frame</th>\n",
       "      <th>corner_damage_frame</th>\n",
       "      <th>mitres_separating_frame</th>\n",
       "      <th>work_loose_frame</th>\n",
       "      <th>surface_dirt_along_top_edge_frame</th>\n",
       "    </tr>\n",
       "  </thead>\n",
       "  <tbody>\n",
       "    <tr>\n",
       "      <th>0</th>\n",
       "      <td>0</td>\n",
       "      <td>Upvma-Iii.00240</td>\n",
       "      <td>Gallardo, Alladin</td>\n",
       "      <td>Ifugao Warrior</td>\n",
       "      <td>1947</td>\n",
       "      <td>1940</td>\n",
       "      <td>Philippines</td>\n",
       "      <td>Vargas Museum (Philippines)</td>\n",
       "      <td>635X 480</td>\n",
       "      <td>635.00</td>\n",
       "      <td>...</td>\n",
       "      <td>1</td>\n",
       "      <td>0</td>\n",
       "      <td>1</td>\n",
       "      <td>1</td>\n",
       "      <td>1</td>\n",
       "      <td>0</td>\n",
       "      <td>1</td>\n",
       "      <td>0</td>\n",
       "      <td>0</td>\n",
       "      <td>0</td>\n",
       "    </tr>\n",
       "    <tr>\n",
       "      <th>1</th>\n",
       "      <td>1</td>\n",
       "      <td>Upvma-Iii.00085</td>\n",
       "      <td>Ancheta, Isidro</td>\n",
       "      <td>Guadalupe Ruins</td>\n",
       "      <td>1939</td>\n",
       "      <td>1930</td>\n",
       "      <td>Philippines</td>\n",
       "      <td>Vargas Museum (Philippines)</td>\n",
       "      <td>670 X 405</td>\n",
       "      <td>670.00</td>\n",
       "      <td>...</td>\n",
       "      <td>1</td>\n",
       "      <td>0</td>\n",
       "      <td>0</td>\n",
       "      <td>1</td>\n",
       "      <td>0</td>\n",
       "      <td>0</td>\n",
       "      <td>1</td>\n",
       "      <td>0</td>\n",
       "      <td>0</td>\n",
       "      <td>0</td>\n",
       "    </tr>\n",
       "    <tr>\n",
       "      <th>2</th>\n",
       "      <td>2</td>\n",
       "      <td>Upvma-Iii.00292\\n</td>\n",
       "      <td>Lagniton, Jose</td>\n",
       "      <td>3:00 O'Clock Seascape</td>\n",
       "      <td>1948</td>\n",
       "      <td>1940</td>\n",
       "      <td>Philippines</td>\n",
       "      <td>Vargas Museum (Philippines)</td>\n",
       "      <td>320 X 370</td>\n",
       "      <td>320.00</td>\n",
       "      <td>...</td>\n",
       "      <td>1</td>\n",
       "      <td>0</td>\n",
       "      <td>0</td>\n",
       "      <td>1</td>\n",
       "      <td>1</td>\n",
       "      <td>0</td>\n",
       "      <td>0</td>\n",
       "      <td>1</td>\n",
       "      <td>0</td>\n",
       "      <td>0</td>\n",
       "    </tr>\n",
       "    <tr>\n",
       "      <th>3</th>\n",
       "      <td>3</td>\n",
       "      <td>Upvma-Iii.00126\\n</td>\n",
       "      <td>Buenaventura Y Espana, Oscar</td>\n",
       "      <td>Kabulusan Beach, Laguna De Bay</td>\n",
       "      <td>1947</td>\n",
       "      <td>1940</td>\n",
       "      <td>Philippines</td>\n",
       "      <td>Vargas Museum (Philippines)</td>\n",
       "      <td>400 X 500</td>\n",
       "      <td>400.00</td>\n",
       "      <td>...</td>\n",
       "      <td>1</td>\n",
       "      <td>0</td>\n",
       "      <td>0</td>\n",
       "      <td>1</td>\n",
       "      <td>0</td>\n",
       "      <td>0</td>\n",
       "      <td>0</td>\n",
       "      <td>0</td>\n",
       "      <td>0</td>\n",
       "      <td>0</td>\n",
       "    </tr>\n",
       "    <tr>\n",
       "      <th>4</th>\n",
       "      <td>4</td>\n",
       "      <td>Upvma-Iii.00161\\n</td>\n",
       "      <td>Cristobal, Bonifacio</td>\n",
       "      <td>Bsp President Jorge B. Vargas</td>\n",
       "      <td>1950</td>\n",
       "      <td>1950</td>\n",
       "      <td>Philippines</td>\n",
       "      <td>Vargas Museum (Philippines)</td>\n",
       "      <td>725-727 X 601</td>\n",
       "      <td>727.00</td>\n",
       "      <td>...</td>\n",
       "      <td>1</td>\n",
       "      <td>0</td>\n",
       "      <td>0</td>\n",
       "      <td>1</td>\n",
       "      <td>1</td>\n",
       "      <td>0</td>\n",
       "      <td>1</td>\n",
       "      <td>0</td>\n",
       "      <td>0</td>\n",
       "      <td>0</td>\n",
       "    </tr>\n",
       "  </tbody>\n",
       "</table>\n",
       "<p>5 rows × 206 columns</p>\n",
       "</div>"
      ],
      "text/plain": [
       "   Unnamed: 0   accession_number                        artist  \\\n",
       "0           0    Upvma-Iii.00240             Gallardo, Alladin   \n",
       "1           1    Upvma-Iii.00085               Ancheta, Isidro   \n",
       "2           2  Upvma-Iii.00292\\n                Lagniton, Jose   \n",
       "3           3  Upvma-Iii.00126\\n  Buenaventura Y Espana, Oscar   \n",
       "4           4  Upvma-Iii.00161\\n          Cristobal, Bonifacio   \n",
       "\n",
       "                            title  date  decade      country  \\\n",
       "0                  Ifugao Warrior  1947    1940  Philippines   \n",
       "1                 Guadalupe Ruins  1939    1930  Philippines   \n",
       "2           3:00 O'Clock Seascape  1948    1940  Philippines   \n",
       "3  Kabulusan Beach, Laguna De Bay  1947    1940  Philippines   \n",
       "4   Bsp President Jorge B. Vargas  1950    1950  Philippines   \n",
       "\n",
       "                    collection          sight  length  ...  abrasions_frame  \\\n",
       "0  Vargas Museum (Philippines)       635X 480  635.00  ...                1   \n",
       "1  Vargas Museum (Philippines)      670 X 405  670.00  ...                1   \n",
       "2  Vargas Museum (Philippines)      320 X 370  320.00  ...                1   \n",
       "3  Vargas Museum (Philippines)      400 X 500  400.00  ...                1   \n",
       "4  Vargas Museum (Philippines)  725-727 X 601  727.00  ...                1   \n",
       "\n",
       "   flaking_frame losses_frame dented_frame chipped_frame cracking_frame  \\\n",
       "0              0            1            1             1              0   \n",
       "1              0            0            1             0              0   \n",
       "2              0            0            1             1              0   \n",
       "3              0            0            1             0              0   \n",
       "4              0            0            1             1              0   \n",
       "\n",
       "  corner_damage_frame mitres_separating_frame work_loose_frame  \\\n",
       "0                   1                       0                0   \n",
       "1                   1                       0                0   \n",
       "2                   0                       1                0   \n",
       "3                   0                       0                0   \n",
       "4                   1                       0                0   \n",
       "\n",
       "  surface_dirt_along_top_edge_frame  \n",
       "0                                 0  \n",
       "1                                 0  \n",
       "2                                 0  \n",
       "3                                 0  \n",
       "4                                 0  \n",
       "\n",
       "[5 rows x 206 columns]"
      ]
     },
     "execution_count": 2,
     "metadata": {},
     "output_type": "execute_result"
    }
   ],
   "source": [
    "dataset.head(5)"
   ]
  },
  {
   "cell_type": "markdown",
   "metadata": {},
   "source": [
    "Predicting `ground_layer_application`"
   ]
  },
  {
   "cell_type": "code",
   "execution_count": 3,
   "metadata": {},
   "outputs": [],
   "source": [
    "colnames = ['ground_layer_application', 'ground_layer_limit', 'ground_layer_thickness', 'size_layer_visible', \n",
    "            'coloured_ground', 'id_sulphate', 'id_carbonate', 'uniform_application', 'ground_proprietary_paint', 'collection']"
   ]
  },
  {
   "cell_type": "markdown",
   "metadata": {},
   "source": [
    "One hot encode categorical data with more than two values"
   ]
  },
  {
   "cell_type": "code",
   "execution_count": 4,
   "metadata": {},
   "outputs": [],
   "source": [
    "prediction_set = dataset[colnames]\n",
    "one_hot = pd.get_dummies(prediction_set['ground_layer_limit'])\n",
    "prediction_set = prediction_set.drop('ground_layer_limit', axis=1)\n",
    "prediction_set = prediction_set.join(one_hot)\n",
    "\n",
    "one_hot = pd.get_dummies(prediction_set['ground_layer_thickness'])\n",
    "prediction_set = prediction_set.drop('ground_layer_thickness', axis=1)\n",
    "prediction_set = prediction_set.join(one_hot, lsuffix=\"limit\", rsuffix=\"thickness\")\n",
    "\n",
    "one_hot = pd.get_dummies(prediction_set['collection'])\n",
    "prediction_set = prediction_set.drop('collection', axis=1)\n",
    "prediction_set = prediction_set.join(one_hot)"
   ]
  },
  {
   "cell_type": "markdown",
   "metadata": {},
   "source": [
    "Split data into training, validation and testing set"
   ]
  },
  {
   "cell_type": "code",
   "execution_count": 5,
   "metadata": {},
   "outputs": [],
   "source": [
    "temp = prediction_set[(prediction_set['ground_layer_application'] != 'Unspecified') & (prediction_set['ground_layer_application'] != 'Unsure')]\n",
    "train = temp.sample(frac = 0.8, random_state=25)\n",
    "valid = temp.drop(train.index)\n",
    "test = prediction_set[(prediction_set['ground_layer_application'] == 'Unspecified') | (prediction_set['ground_layer_application'] == 'Unsure')]"
   ]
  },
  {
   "cell_type": "code",
   "execution_count": 6,
   "metadata": {},
   "outputs": [],
   "source": [
    "X_train = train.drop('ground_layer_application', axis=1)\n",
    "y_train = train['ground_layer_application']\n",
    "\n",
    "X_valid = valid.drop('ground_layer_application', axis=1)\n",
    "y_valid = valid['ground_layer_application']\n",
    "\n",
    "X_test = test.drop('ground_layer_application', axis=1)"
   ]
  },
  {
   "cell_type": "code",
   "execution_count": 7,
   "metadata": {},
   "outputs": [
    {
     "data": {
      "text/plain": [
       "((147, 18), (37, 18))"
      ]
     },
     "execution_count": 7,
     "metadata": {},
     "output_type": "execute_result"
    }
   ],
   "source": [
    "X_train.shape, X_valid.shape"
   ]
  },
  {
   "cell_type": "code",
   "execution_count": 8,
   "metadata": {},
   "outputs": [
    {
     "data": {
      "text/plain": [
       "(24, 18)"
      ]
     },
     "execution_count": 8,
     "metadata": {},
     "output_type": "execute_result"
    }
   ],
   "source": [
    "X_test.shape"
   ]
  },
  {
   "cell_type": "markdown",
   "metadata": {},
   "source": [
    "Train baseline model: Bernoulli Naive Bayes"
   ]
  },
  {
   "cell_type": "code",
   "execution_count": 9,
   "metadata": {},
   "outputs": [],
   "source": [
    "from sklearn.naive_bayes import BernoulliNB\n",
    "from sklearn.metrics import confusion_matrix\n",
    "import seaborn as sns"
   ]
  },
  {
   "cell_type": "code",
   "execution_count": 10,
   "metadata": {},
   "outputs": [
    {
     "name": "stdout",
     "output_type": "stream",
     "text": [
      "Training Accuracy: 0.7891156462585034\n",
      "Holdout Accuracy: 0.8108108108108109\n"
     ]
    }
   ],
   "source": [
    "bnb = BernoulliNB()\n",
    "bnb.fit(X_train, y_train)\n",
    "valid_prediction = bnb.predict(X_valid)\n",
    "print(\"Training Accuracy:\", bnb.score(X_train, y_train))\n",
    "print(\"Holdout Accuracy:\", bnb.score(X_valid, y_valid))"
   ]
  },
  {
   "cell_type": "code",
   "execution_count": 15,
   "metadata": {},
   "outputs": [
    {
     "name": "stdout",
     "output_type": "stream",
     "text": [
      "Training data class distribution:  Counter({'Artist Applied Ground': 77, 'Commercial Ground': 70})\n",
      "Validation data class distribution:  Counter({'Commercial Ground': 24, 'Artist Applied Ground': 13})\n",
      "Validation prediction distribution:  Counter({'Commercial Ground': 23, 'Artist Applied Ground': 14})\n"
     ]
    }
   ],
   "source": [
    "print(\"Training data class distribution: \", Counter(y_train))\n",
    "print(\"Validation data class distribution: \", Counter(y_valid))\n",
    "print(\"Validation prediction distribution: \", Counter(valid_prediction))"
   ]
  },
  {
   "cell_type": "markdown",
   "metadata": {},
   "source": [
    "Evaluate using confusion matrix"
   ]
  },
  {
   "cell_type": "code",
   "execution_count": 18,
   "metadata": {},
   "outputs": [
    {
     "data": {
      "image/png": "[encoded data removed]",
      "text/plain": [
       "<Figure size 432x288 with 2 Axes>"
      ]
     },
     "metadata": {},
     "output_type": "display_data"
    }
   ],
   "source": [
    "cm = confusion_matrix(y_valid, valid_prediction)\n",
    "\n",
    "ax = plt.subplot()\n",
    "sns.heatmap(cm, annot=True, fmt='g', ax=ax, cmap='Blues')\n",
    "ax.set_xlabel('Predicted Label')\n",
    "ax.set_ylabel('Actual Label')\n",
    "ax.set_title('Confusion Matrix')\n",
    "ax.xaxis.set_ticklabels(['Artist Applied', 'Commercial'])\n",
    "ax.yaxis.set_ticklabels(['Commercial','Artist Applied'])\n",
    "plt.show()"
   ]
  }
 ],
 "metadata": {
  "kernelspec": {
   "display_name": "Python 3.8.8 ('base')",
   "language": "python",
   "name": "python3"
  },
  "language_info": {
   "codemirror_mode": {
    "name": "ipython",
    "version": 3
   },
   "file_extension": ".py",
   "mimetype": "text/x-python",
   "name": "python",
   "nbconvert_exporter": "python",
   "pygments_lexer": "ipython3",
   "version": "3.8.8"
  },
  "orig_nbformat": 4,
  "vscode": {
   "interpreter": {
    "hash": "40d3a090f54c6569ab1632332b64b2c03c39dcf918b08424e98f38b5ae0af88f"
   }
  }
 },
 "nbformat": 4,
 "nbformat_minor": 2
}
